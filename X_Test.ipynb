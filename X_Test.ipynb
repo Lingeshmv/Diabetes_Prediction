{
 "cells": [
  {
   "cell_type": "markdown",
   "id": "1e671238-0a20-4c64-9bb3-09b1174ee48a",
   "metadata": {},
   "source": [
    "### X_Test"
   ]
  },
  {
   "cell_type": "code",
   "execution_count": 17,
   "id": "126c87dd-7e94-4a18-8122-ea6d9d43e610",
   "metadata": {},
   "outputs": [],
   "source": [
    "import pandas as pd\n",
    "import pickle\n",
    "from sklearn.metrics import accuracy_score"
   ]
  },
  {
   "cell_type": "markdown",
   "id": "cffd55f8-164e-4025-9654-416aff2fd85c",
   "metadata": {},
   "source": [
    "#### Load the saved model"
   ]
  },
  {
   "cell_type": "code",
   "execution_count": 19,
   "id": "70f14ea1-4339-4ff3-9f6a-20beedb151c1",
   "metadata": {},
   "outputs": [],
   "source": [
    "with open('Model/diabetes_model.pkl', 'rb') as f:\n",
    "    model = pickle.load(f)"
   ]
  },
  {
   "cell_type": "markdown",
   "id": "bcd107ae-32f1-457a-be19-1d5feb3ca4c4",
   "metadata": {},
   "source": [
    "#### Load the test data"
   ]
  },
  {
   "cell_type": "code",
   "execution_count": 22,
   "id": "1c32232b-d358-4fc0-86a1-71bbefdadec2",
   "metadata": {},
   "outputs": [],
   "source": [
    "# Load the test data\n",
    "X_test = pd.read_csv('Data/X_test.csv')"
   ]
  },
  {
   "cell_type": "markdown",
   "id": "e876198b-1e90-4b9a-9e4c-698eedc1ad53",
   "metadata": {},
   "source": [
    "#### Make predictions on the test set"
   ]
  },
  {
   "cell_type": "code",
   "execution_count": 23,
   "id": "65841795-2660-45b9-8427-c5f091b3936e",
   "metadata": {},
   "outputs": [],
   "source": [
    "y_pred = model.predict(X_test)"
   ]
  },
  {
   "cell_type": "markdown",
   "id": "c5650cb4-f475-46ba-bf58-35d52cc7042e",
   "metadata": {},
   "source": [
    "#### Evaluate the model on the test set"
   ]
  },
  {
   "cell_type": "code",
   "execution_count": 24,
   "id": "24e75eea-aedd-4256-bd11-dccaaea51f0b",
   "metadata": {},
   "outputs": [
    {
     "name": "stdout",
     "output_type": "stream",
     "text": [
      "Model accuracy on test set: 79.17%\n"
     ]
    }
   ],
   "source": [
    "acc = accuracy_score(y_test, y_pred)\n",
    "print(f'Model accuracy on test set: {acc:.2%}')"
   ]
  },
  {
   "cell_type": "code",
   "execution_count": null,
   "id": "5091b5fa-da4c-4e7e-add1-c8ed2fc85742",
   "metadata": {},
   "outputs": [],
   "source": []
  }
 ],
 "metadata": {
  "kernelspec": {
   "display_name": "Python 3 (ipykernel)",
   "language": "python",
   "name": "python3"
  },
  "language_info": {
   "codemirror_mode": {
    "name": "ipython",
    "version": 3
   },
   "file_extension": ".py",
   "mimetype": "text/x-python",
   "name": "python",
   "nbconvert_exporter": "python",
   "pygments_lexer": "ipython3",
   "version": "3.11.4"
  }
 },
 "nbformat": 4,
 "nbformat_minor": 5
}
