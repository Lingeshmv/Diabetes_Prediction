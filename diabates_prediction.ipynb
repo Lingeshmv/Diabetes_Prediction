{
 "cells": [
  {
   "cell_type": "markdown",
   "id": "2457bffd-ef1b-4558-a472-a4ff3ccac82d",
   "metadata": {},
   "source": [
    "## Diabetes Prediction "
   ]
  },
  {
   "cell_type": "markdown",
   "id": "bc2466b0-8ff4-4317-9a91-99f8f1eb4545",
   "metadata": {},
   "source": [
    "Diabetes prediction refers to the process of using various data, such as medical records, demographic information, lifestyle factors, and genetic predispositions, to predict the likelihood of an individual developing diabetes in the future. Machine learning techniques are commonly used for diabetes prediction. These techniques involve training a model on historical data of individuals who have been diagnosed with diabetes or have risk factors for diabetes, and then using this trained model to make predictions on new, unseen data.\r\n",
    "\r\n"
   ]
  },
  {
   "cell_type": "markdown",
   "id": "7341575d-c228-451a-982a-479c455783c1",
   "metadata": {},
   "source": [
    "The following steps are followed,\n",
    "\n",
    "* Import Library\n",
    "* Load the diabetes dataset\n",
    "* Split the data into 6 files\n",
    "* Save the data files\n",
    "* Define the model\n",
    "* Define the pipeline\n",
    "* Train the models\n",
    "* Save the model\n",
    "* Evaluate the model on the training set"
   ]
  },
  {
   "cell_type": "markdown",
   "id": "2a348092-db6e-46ca-b436-393f8ca2da22",
   "metadata": {},
   "source": [
    "#### Import Library"
   ]
  },
  {
   "cell_type": "code",
   "execution_count": 52,
   "id": "18085e4a-5934-46da-a107-b2d61b300861",
   "metadata": {},
   "outputs": [],
   "source": [
    "import pandas as pd\n",
    "import numpy as np\n",
    "from sklearn.model_selection import train_test_split\n",
    "from sklearn.preprocessing import StandardScaler\n",
    "from sklearn.tree import DecisionTreeClassifier\n",
    "from sklearn.ensemble import RandomForestClassifier\n",
    "from sklearn.linear_model import LogisticRegression\n",
    "from sklearn.feature_selection import RFE\n",
    "from sklearn.pipeline import make_pipeline\n",
    "import pickle"
   ]
  },
  {
   "cell_type": "markdown",
   "id": "b766267d-3985-467f-b30d-b706d14e51c3",
   "metadata": {},
   "source": [
    "#### Load the diabetes dataset"
   ]
  },
  {
   "cell_type": "code",
   "execution_count": 54,
   "id": "4f43b96b-25ac-4030-b039-dad085e5f43f",
   "metadata": {},
   "outputs": [],
   "source": [
    "diabetes_df = pd.read_csv('Data/diabetes.csv')\n",
    "X = diabetes_df.drop('Outcome', axis=1)\n",
    "y = diabetes_df['Outcome']"
   ]
  },
  {
   "cell_type": "markdown",
   "id": "a0cb76f7-de5d-4ae3-8d10-7b2b4f8b83da",
   "metadata": {},
   "source": [
    "#### Split the data into 6 files"
   ]
  },
  {
   "cell_type": "code",
   "execution_count": 55,
   "id": "50e4003b-b543-46a7-bac0-e6809910993d",
   "metadata": {},
   "outputs": [],
   "source": [
    "X_train, X_test, y_train, y_test = train_test_split(X, y, test_size=0.25, random_state=0)\n",
    "X_train, X_val, y_train, y_val = train_test_split(X_train, y_train, test_size=0.25, random_state=0)"
   ]
  },
  {
   "cell_type": "markdown",
   "id": "76079302-50a7-4c27-ad61-38bc0a965195",
   "metadata": {},
   "source": [
    "#### Save the data files"
   ]
  },
  {
   "cell_type": "code",
   "execution_count": 56,
   "id": "70a94d4b-f6fb-48b5-851b-d1420904788c",
   "metadata": {},
   "outputs": [],
   "source": [
    "X_train.to_csv('X_train.csv', index=False)\n",
    "X_test.to_csv('X_test.csv', index=False)\n",
    "y_train.to_csv('y_train.csv', index=False)\n",
    "y_test.to_csv('y_test.csv', index=False)\n",
    "X_val.to_csv('X_val.csv', index=False)\n",
    "y_val.to_csv('y_val.csv', index=False)"
   ]
  },
  {
   "cell_type": "markdown",
   "id": "35cba96f-5a41-4f95-a0dc-4abfc53b8d86",
   "metadata": {},
   "source": [
    "#### Define the models"
   ]
  },
  {
   "cell_type": "code",
   "execution_count": 57,
   "id": "103e2596-5501-4075-b9f7-5c198ab034d0",
   "metadata": {},
   "outputs": [],
   "source": [
    "models = [\n",
    "    ('Decision Tree', DecisionTreeClassifier()),\n",
    "    ('Random Forest', RandomForestClassifier()),\n",
    "    ('Logistic Regression', LogisticRegression())\n",
    "]\n"
   ]
  },
  {
   "cell_type": "markdown",
   "id": "d8f530f2-3955-4140-a8b3-c07880ebd58d",
   "metadata": {},
   "source": [
    "#### Define the pipeline"
   ]
  },
  {
   "cell_type": "code",
   "execution_count": 58,
   "id": "196051a4-d9a5-4f6e-b5b5-482df25df965",
   "metadata": {},
   "outputs": [],
   "source": [
    "pipeline = make_pipeline(StandardScaler(), RFE(estimator=LogisticRegression(), n_features_to_select=3))"
   ]
  },
  {
   "cell_type": "markdown",
   "id": "5ec77e4c-cbe9-4428-bbc9-4512aa909ebb",
   "metadata": {},
   "source": [
    "#### Train the models"
   ]
  },
  {
   "cell_type": "code",
   "execution_count": 59,
   "id": "2e981dc2-a550-4f0d-9ad0-86a65f1c3a49",
   "metadata": {},
   "outputs": [
    {
     "name": "stdout",
     "output_type": "stream",
     "text": [
      "Decision Tree accuracy on validation set: 64.58%\n",
      "Random Forest accuracy on validation set: 76.39%\n",
      "Logistic Regression accuracy on validation set: 77.78%\n"
     ]
    }
   ],
   "source": [
    "for name, model in models:\n",
    "    pipeline.set_params(rfe__estimator=model, rfe__n_features_to_select=3)\n",
    "    pipeline.fit(X_train, y_train)\n",
    "    acc = pipeline.score(X_val, y_val)\n",
    "    print(f'{name} accuracy on validation set: {acc:.2%}')"
   ]
  },
  {
   "cell_type": "markdown",
   "id": "a8c83996-8886-41bf-84a2-8f0f54df4a30",
   "metadata": {},
   "source": [
    "#### Save the model"
   ]
  },
  {
   "cell_type": "code",
   "execution_count": 60,
   "id": "5f2c850d-91d5-4d8b-8ba8-8efde531e4b6",
   "metadata": {},
   "outputs": [],
   "source": [
    "# Save the best model\n",
    "with open('diabetes_model.pkl', 'wb') as f:\n",
    "    pickle.dump(pipeline, f)\n",
    "\n",
    "# Load the saved model\n",
    "with open('diabetes_model.pkl', 'rb') as f:\n",
    "    model = pickle.load(f)"
   ]
  },
  {
   "cell_type": "markdown",
   "id": "f0dee365-fc45-43d9-9760-64c47af33fdc",
   "metadata": {},
   "source": [
    "#### Evaluate the model on the training set"
   ]
  },
  {
   "cell_type": "code",
   "execution_count": 61,
   "id": "b25a3cbb-a613-4072-be81-d95e51cd64f7",
   "metadata": {},
   "outputs": [
    {
     "name": "stdout",
     "output_type": "stream",
     "text": [
      "Model accuracy on training set: 74.31%\n"
     ]
    }
   ],
   "source": [
    "acc = model.score(X_train, y_train)\n",
    "print(f'Model accuracy on training set: {acc:.2%}')"
   ]
  },
  {
   "cell_type": "code",
   "execution_count": null,
   "id": "51078054-1e20-4e41-bf39-8738eaab8372",
   "metadata": {},
   "outputs": [],
   "source": []
  },
  {
   "cell_type": "code",
   "execution_count": null,
   "id": "fcdfb871-5a0c-4718-8492-c1b7ad90fbac",
   "metadata": {},
   "outputs": [],
   "source": []
  }
 ],
 "metadata": {
  "kernelspec": {
   "display_name": "Python 3 (ipykernel)",
   "language": "python",
   "name": "python3"
  },
  "language_info": {
   "codemirror_mode": {
    "name": "ipython",
    "version": 3
   },
   "file_extension": ".py",
   "mimetype": "text/x-python",
   "name": "python",
   "nbconvert_exporter": "python",
   "pygments_lexer": "ipython3",
   "version": "3.11.4"
  }
 },
 "nbformat": 4,
 "nbformat_minor": 5
}
